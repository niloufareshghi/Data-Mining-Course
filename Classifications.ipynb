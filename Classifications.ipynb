{
  "nbformat": 4,
  "nbformat_minor": 0,
  "metadata": {
    "colab": {
      "provenance": []
    },
    "kernelspec": {
      "name": "python3",
      "display_name": "Python 3"
    },
    "language_info": {
      "name": "python"
    }
  },
  "cells": [
    {
      "cell_type": "markdown",
      "source": [
        "#Part One"
      ],
      "metadata": {
        "id": "cXrsT0PUh5ft"
      }
    },
    {
      "cell_type": "code",
      "source": [
        "# pip install tensorflow"
      ],
      "metadata": {
        "id": "pMkYQ61LVJaR"
      },
      "execution_count": null,
      "outputs": []
    },
    {
      "cell_type": "code",
      "execution_count": null,
      "metadata": {
        "id": "MiF3O4qrheUz"
      },
      "outputs": [],
      "source": [
        "from sklearn.datasets import make_circles\n",
        "import numpy as np\n",
        "import pandas as pd\n",
        "import matplotlib.pyplot as plt\n",
        "import tensorflow as tf"
      ]
    },
    {
      "cell_type": "code",
      "source": [
        "x, y = make_circles(1000, noise=0.02, factor=0.5, random_state=42)"
      ],
      "metadata": {
        "id": "uFPkiCYah8-1"
      },
      "execution_count": null,
      "outputs": []
    },
    {
      "cell_type": "code",
      "source": [
        "loss = []\n",
        "accuracy = []"
      ],
      "metadata": {
        "id": "nG2CtvZPBW3K"
      },
      "execution_count": null,
      "outputs": []
    },
    {
      "cell_type": "code",
      "source": [
        "circle = pd.DataFrame({ 'X0' : x[:, 0], 'X1' : x[:, 1], 'label' : y})\n",
        "circle.head()"
      ],
      "metadata": {
        "colab": {
          "base_uri": "https://localhost:8080/",
          "height": 206
        },
        "id": "tFP7R3YeU-99",
        "outputId": "ff1f52a7-7465-43b7-c62b-0b86632777d2"
      },
      "execution_count": null,
      "outputs": [
        {
          "output_type": "execute_result",
          "data": {
            "text/plain": [
              "         X0        X1  label\n",
              "0  0.470651  0.145626      1\n",
              "1 -0.471216  0.096751      1\n",
              "2 -0.510524  0.111344      1\n",
              "3 -0.248295  0.431761      1\n",
              "4  0.440510 -0.897617      0"
            ],
            "text/html": [
              "\n",
              "  <div id=\"df-f1de4c9a-e2f9-43ea-b694-6761c3108044\">\n",
              "    <div class=\"colab-df-container\">\n",
              "      <div>\n",
              "<style scoped>\n",
              "    .dataframe tbody tr th:only-of-type {\n",
              "        vertical-align: middle;\n",
              "    }\n",
              "\n",
              "    .dataframe tbody tr th {\n",
              "        vertical-align: top;\n",
              "    }\n",
              "\n",
              "    .dataframe thead th {\n",
              "        text-align: right;\n",
              "    }\n",
              "</style>\n",
              "<table border=\"1\" class=\"dataframe\">\n",
              "  <thead>\n",
              "    <tr style=\"text-align: right;\">\n",
              "      <th></th>\n",
              "      <th>X0</th>\n",
              "      <th>X1</th>\n",
              "      <th>label</th>\n",
              "    </tr>\n",
              "  </thead>\n",
              "  <tbody>\n",
              "    <tr>\n",
              "      <th>0</th>\n",
              "      <td>0.470651</td>\n",
              "      <td>0.145626</td>\n",
              "      <td>1</td>\n",
              "    </tr>\n",
              "    <tr>\n",
              "      <th>1</th>\n",
              "      <td>-0.471216</td>\n",
              "      <td>0.096751</td>\n",
              "      <td>1</td>\n",
              "    </tr>\n",
              "    <tr>\n",
              "      <th>2</th>\n",
              "      <td>-0.510524</td>\n",
              "      <td>0.111344</td>\n",
              "      <td>1</td>\n",
              "    </tr>\n",
              "    <tr>\n",
              "      <th>3</th>\n",
              "      <td>-0.248295</td>\n",
              "      <td>0.431761</td>\n",
              "      <td>1</td>\n",
              "    </tr>\n",
              "    <tr>\n",
              "      <th>4</th>\n",
              "      <td>0.440510</td>\n",
              "      <td>-0.897617</td>\n",
              "      <td>0</td>\n",
              "    </tr>\n",
              "  </tbody>\n",
              "</table>\n",
              "</div>\n",
              "      <button class=\"colab-df-convert\" onclick=\"convertToInteractive('df-f1de4c9a-e2f9-43ea-b694-6761c3108044')\"\n",
              "              title=\"Convert this dataframe to an interactive table.\"\n",
              "              style=\"display:none;\">\n",
              "        \n",
              "  <svg xmlns=\"http://www.w3.org/2000/svg\" height=\"24px\"viewBox=\"0 0 24 24\"\n",
              "       width=\"24px\">\n",
              "    <path d=\"M0 0h24v24H0V0z\" fill=\"none\"/>\n",
              "    <path d=\"M18.56 5.44l.94 2.06.94-2.06 2.06-.94-2.06-.94-.94-2.06-.94 2.06-2.06.94zm-11 1L8.5 8.5l.94-2.06 2.06-.94-2.06-.94L8.5 2.5l-.94 2.06-2.06.94zm10 10l.94 2.06.94-2.06 2.06-.94-2.06-.94-.94-2.06-.94 2.06-2.06.94z\"/><path d=\"M17.41 7.96l-1.37-1.37c-.4-.4-.92-.59-1.43-.59-.52 0-1.04.2-1.43.59L10.3 9.45l-7.72 7.72c-.78.78-.78 2.05 0 2.83L4 21.41c.39.39.9.59 1.41.59.51 0 1.02-.2 1.41-.59l7.78-7.78 2.81-2.81c.8-.78.8-2.07 0-2.86zM5.41 20L4 18.59l7.72-7.72 1.47 1.35L5.41 20z\"/>\n",
              "  </svg>\n",
              "      </button>\n",
              "      \n",
              "  <style>\n",
              "    .colab-df-container {\n",
              "      display:flex;\n",
              "      flex-wrap:wrap;\n",
              "      gap: 12px;\n",
              "    }\n",
              "\n",
              "    .colab-df-convert {\n",
              "      background-color: #E8F0FE;\n",
              "      border: none;\n",
              "      border-radius: 50%;\n",
              "      cursor: pointer;\n",
              "      display: none;\n",
              "      fill: #1967D2;\n",
              "      height: 32px;\n",
              "      padding: 0 0 0 0;\n",
              "      width: 32px;\n",
              "    }\n",
              "\n",
              "    .colab-df-convert:hover {\n",
              "      background-color: #E2EBFA;\n",
              "      box-shadow: 0px 1px 2px rgba(60, 64, 67, 0.3), 0px 1px 3px 1px rgba(60, 64, 67, 0.15);\n",
              "      fill: #174EA6;\n",
              "    }\n",
              "\n",
              "    [theme=dark] .colab-df-convert {\n",
              "      background-color: #3B4455;\n",
              "      fill: #D2E3FC;\n",
              "    }\n",
              "\n",
              "    [theme=dark] .colab-df-convert:hover {\n",
              "      background-color: #434B5C;\n",
              "      box-shadow: 0px 1px 3px 1px rgba(0, 0, 0, 0.15);\n",
              "      filter: drop-shadow(0px 1px 2px rgba(0, 0, 0, 0.3));\n",
              "      fill: #FFFFFF;\n",
              "    }\n",
              "  </style>\n",
              "\n",
              "      <script>\n",
              "        const buttonEl =\n",
              "          document.querySelector('#df-f1de4c9a-e2f9-43ea-b694-6761c3108044 button.colab-df-convert');\n",
              "        buttonEl.style.display =\n",
              "          google.colab.kernel.accessAllowed ? 'block' : 'none';\n",
              "\n",
              "        async function convertToInteractive(key) {\n",
              "          const element = document.querySelector('#df-f1de4c9a-e2f9-43ea-b694-6761c3108044');\n",
              "          const dataTable =\n",
              "            await google.colab.kernel.invokeFunction('convertToInteractive',\n",
              "                                                     [key], {});\n",
              "          if (!dataTable) return;\n",
              "\n",
              "          const docLinkHtml = 'Like what you see? Visit the ' +\n",
              "            '<a target=\"_blank\" href=https://colab.research.google.com/notebooks/data_table.ipynb>data table notebook</a>'\n",
              "            + ' to learn more about interactive tables.';\n",
              "          element.innerHTML = '';\n",
              "          dataTable['output_type'] = 'display_data';\n",
              "          await google.colab.output.renderOutput(dataTable, element);\n",
              "          const docLink = document.createElement('div');\n",
              "          docLink.innerHTML = docLinkHtml;\n",
              "          element.appendChild(docLink);\n",
              "        }\n",
              "      </script>\n",
              "    </div>\n",
              "  </div>\n",
              "  "
            ]
          },
          "metadata": {},
          "execution_count": 4
        }
      ]
    },
    {
      "cell_type": "code",
      "source": [
        "plt.scatter(x[:,0], x[:,1], c = y, cmap = plt.cm.RdYlBu)"
      ],
      "metadata": {
        "colab": {
          "base_uri": "https://localhost:8080/",
          "height": 282
        },
        "id": "V90Fs0OXXvd9",
        "outputId": "39b0681c-625d-4f22-b977-e8931633c128"
      },
      "execution_count": null,
      "outputs": [
        {
          "output_type": "execute_result",
          "data": {
            "text/plain": [
              "<matplotlib.collections.PathCollection at 0x7f7f4890c350>"
            ]
          },
          "metadata": {},
          "execution_count": 5
        },
        {
          "output_type": "display_data",
          "data": {
            "text/plain": [
              "<Figure size 432x288 with 1 Axes>"
            ],
            "image/png": "[encoded data removed]"
          },
          "metadata": {
            "needs_background": "light"
          }
        }
      ]
    },
    {
      "cell_type": "code",
      "source": [
        "tf.random.set_seed(42)"
      ],
      "metadata": {
        "id": "MIn1uVEVYLqq"
      },
      "execution_count": null,
      "outputs": []
    },
    {
      "cell_type": "markdown",
      "source": [
        "##neural network without activation function"
      ],
      "metadata": {
        "id": "IQcgaBMXB44w"
      }
    },
    {
      "cell_type": "code",
      "source": [
        "model_1 = tf.keras.Sequential([\n",
        "\n",
        "  tf.keras.layers.Dense(4),\n",
        "\n",
        "  tf.keras.layers.Dense(6),\n",
        "\n",
        "  tf.keras.layers.Dense(1)\n",
        "\n",
        "])\n",
        "\n",
        "model_1.compile(loss=tf.keras.losses.BinaryCrossentropy(),\n",
        "\n",
        "                metrics=['accuracy'])\n",
        "\n",
        "model_1.fit(x, y, epochs=100, verbose=0)"
      ],
      "metadata": {
        "id": "fTLZQRYabkuc",
        "colab": {
          "base_uri": "https://localhost:8080/"
        },
        "outputId": "a8518973-ea8e-46d8-f70a-5413d714da2c"
      },
      "execution_count": null,
      "outputs": [
        {
          "output_type": "execute_result",
          "data": {
            "text/plain": [
              "<keras.callbacks.History at 0x7f7f48882350>"
            ]
          },
          "metadata": {},
          "execution_count": 7
        }
      ]
    },
    {
      "cell_type": "code",
      "source": [
        "results = model_1.evaluate(x, y)\n",
        "loss.append(results[0])\n",
        "accuracy.append(results[1])"
      ],
      "metadata": {
        "colab": {
          "base_uri": "https://localhost:8080/"
        },
        "id": "c4xc3AxVAIVB",
        "outputId": "9d518ae0-93ef-4d60-e758-9e6fd3c3179f"
      },
      "execution_count": null,
      "outputs": [
        {
          "output_type": "stream",
          "name": "stdout",
          "text": [
            "32/32 [==============================] - 0s 1ms/step - loss: 0.6934 - accuracy: 0.3400\n"
          ]
        }
      ]
    },
    {
      "cell_type": "markdown",
      "source": [
        "در مدل بالا مشاهده می‌شود که مقدار صحت کم است و مدل به خوبی دسته بندی را انجام نمی دهد"
      ],
      "metadata": {
        "id": "RIzNGhxfAZfC"
      }
    },
    {
      "cell_type": "markdown",
      "source": [
        "##neural network with linear activation function"
      ],
      "metadata": {
        "id": "ZOSaLDZpGBKx"
      }
    },
    {
      "cell_type": "code",
      "source": [
        "model_2 = tf.keras.Sequential([\n",
        "\n",
        "  tf.keras.layers.Dense(4, activation='linear'),\n",
        "\n",
        "  tf.keras.layers.Dense(6, activation='linear'),\n",
        "\n",
        "  tf.keras.layers.Dense(1, activation='linear')\n",
        "\n",
        "])\n",
        "\n",
        "model_2.compile(loss=tf.keras.losses.BinaryCrossentropy(),\n",
        "\n",
        "                metrics=['accuracy'])\n",
        "\n",
        "model_2.fit(x, y, epochs=100, verbose=0)"
      ],
      "metadata": {
        "colab": {
          "base_uri": "https://localhost:8080/"
        },
        "id": "VF1zCs9FAIFq",
        "outputId": "c32b2733-9986-4984-ab54-9fa467e13f56"
      },
      "execution_count": null,
      "outputs": [
        {
          "output_type": "execute_result",
          "data": {
            "text/plain": [
              "<keras.callbacks.History at 0x7f7f445abe10>"
            ]
          },
          "metadata": {},
          "execution_count": 9
        }
      ]
    },
    {
      "cell_type": "code",
      "source": [
        "results = model_2.evaluate(x, y)\n",
        "loss.append(results[0])\n",
        "accuracy.append(results[1])"
      ],
      "metadata": {
        "colab": {
          "base_uri": "https://localhost:8080/"
        },
        "id": "3Z-vZK5EFuQz",
        "outputId": "edcb5edf-3456-4d4b-aa16-510bb56e8ef9"
      },
      "execution_count": null,
      "outputs": [
        {
          "output_type": "stream",
          "name": "stdout",
          "text": [
            "32/32 [==============================] - 0s 1ms/step - loss: 0.6934 - accuracy: 0.5000\n"
          ]
        }
      ]
    },
    {
      "cell_type": "markdown",
      "source": [
        "با وجود افزایش صحت، همچنان مدل صحت پایینی دارد و نمی‌تواند به خوبی دسته بندی کند"
      ],
      "metadata": {
        "id": "lIs2SNISF50i"
      }
    },
    {
      "cell_type": "markdown",
      "source": [
        "##neural network with linear activation function and regression loss (MAE)"
      ],
      "metadata": {
        "id": "-dcwyHBdGH2E"
      }
    },
    {
      "cell_type": "code",
      "source": [
        "model_3 = tf.keras.Sequential([\n",
        "\n",
        "  tf.keras.layers.Dense(4, activation='linear'),\n",
        "\n",
        "  tf.keras.layers.Dense(6, activation='linear'),\n",
        "\n",
        "  tf.keras.layers.Dense(1, activation='linear')\n",
        "\n",
        "])\n",
        "\n",
        "model_3.compile(loss=tf.keras.losses.MeanAbsoluteError(),\n",
        "\n",
        "                metrics=['accuracy'])\n",
        "\n",
        "model_3.fit(x, y, epochs=100, verbose=0)"
      ],
      "metadata": {
        "colab": {
          "base_uri": "https://localhost:8080/"
        },
        "id": "Mfho5pYWGZle",
        "outputId": "925620f9-9d41-4ffb-8372-25f748b2a029"
      },
      "execution_count": null,
      "outputs": [
        {
          "output_type": "execute_result",
          "data": {
            "text/plain": [
              "<keras.callbacks.History at 0x7f7f44390910>"
            ]
          },
          "metadata": {},
          "execution_count": 11
        }
      ]
    },
    {
      "cell_type": "code",
      "source": [
        "results = model_3.evaluate(x, y)\n",
        "loss.append(results[0])\n",
        "accuracy.append(results[1])"
      ],
      "metadata": {
        "colab": {
          "base_uri": "https://localhost:8080/"
        },
        "id": "2broxRPuF_1u",
        "outputId": "0045bb85-cb8a-4cb6-be46-964956e4a263"
      },
      "execution_count": null,
      "outputs": [
        {
          "output_type": "stream",
          "name": "stdout",
          "text": [
            "32/32 [==============================] - 0s 1ms/step - loss: 0.5000 - accuracy: 0.3900\n"
          ]
        }
      ]
    },
    {
      "cell_type": "markdown",
      "source": [
        "این بار صحت مدل نسبت به هر دو مدل قبلی کاهش چشم گیری پیدا کرد و همچنان مدل نمی‌تواند به خوبی دسته بندی کند"
      ],
      "metadata": {
        "id": "dVgJg2gnHQ6E"
      }
    },
    {
      "cell_type": "markdown",
      "source": [
        "##one layered neural network linear activation function and regression loss (MAE)"
      ],
      "metadata": {
        "id": "r4fhJnvuHdzh"
      }
    },
    {
      "cell_type": "code",
      "source": [
        "model_4 = tf.keras.Sequential([tf.keras.layers.Dense(4, activation='linear')])\n",
        "model_4.compile(loss=tf.keras.losses.MeanAbsoluteError(),\n",
        "\n",
        "                metrics=['accuracy'])\n",
        "\n",
        "model_4.fit(x, y, epochs=100, verbose=0)"
      ],
      "metadata": {
        "colab": {
          "base_uri": "https://localhost:8080/"
        },
        "id": "sfwRwcHYHQcD",
        "outputId": "96a9a29e-e2ab-4761-bb0d-138e8527c5d6"
      },
      "execution_count": null,
      "outputs": [
        {
          "output_type": "execute_result",
          "data": {
            "text/plain": [
              "<keras.callbacks.History at 0x7f7f4440dd10>"
            ]
          },
          "metadata": {},
          "execution_count": 13
        }
      ]
    },
    {
      "cell_type": "code",
      "source": [
        "results = model_4.evaluate(x, y)\n",
        "loss.append(results[0])\n",
        "accuracy.append(results[1])"
      ],
      "metadata": {
        "colab": {
          "base_uri": "https://localhost:8080/"
        },
        "id": "MGdSbwWvIn-x",
        "outputId": "2b1842d2-8a69-4eff-f106-395dd7fff8d5"
      },
      "execution_count": null,
      "outputs": [
        {
          "output_type": "stream",
          "name": "stdout",
          "text": [
            "32/32 [==============================] - 0s 1ms/step - loss: 0.5000 - accuracy: 0.1520\n"
          ]
        }
      ]
    },
    {
      "cell_type": "markdown",
      "source": [
        "همچنان مدل نمی‌تواند درست دسته بندی کند"
      ],
      "metadata": {
        "id": "yeJbb4nWJK-Q"
      }
    },
    {
      "cell_type": "markdown",
      "source": [
        "##Optimizing learning rate"
      ],
      "metadata": {
        "id": "RlUE7re1JUDi"
      }
    },
    {
      "cell_type": "code",
      "source": [
        "model_5 = tf.keras.Sequential([tf.keras.layers.Dense(4, activation='linear')])\n",
        "model_5.compile(loss=tf.keras.losses.MeanAbsoluteError(),\n",
        "                optimizer = tf.keras.optimizers.Adam(learning_rate= 0.19),\n",
        "                metrics=['accuracy'])\n",
        "\n",
        "model_5.fit(x, y, epochs=100, verbose=0)"
      ],
      "metadata": {
        "colab": {
          "base_uri": "https://localhost:8080/"
        },
        "id": "iMT0BnKmswic",
        "outputId": "1d6ff242-619d-4361-e668-f1a2436c08d1"
      },
      "execution_count": null,
      "outputs": [
        {
          "output_type": "execute_result",
          "data": {
            "text/plain": [
              "<keras.callbacks.History at 0x7f7f441554d0>"
            ]
          },
          "metadata": {},
          "execution_count": 15
        }
      ]
    },
    {
      "cell_type": "code",
      "source": [
        "results = model_5.evaluate(x, y)\n",
        "loss.append(results[0])\n",
        "accuracy.append(results[1])"
      ],
      "metadata": {
        "colab": {
          "base_uri": "https://localhost:8080/"
        },
        "id": "YlOpyTa8tKq-",
        "outputId": "bd85a11b-fd70-4ff9-b76f-33112045636b"
      },
      "execution_count": null,
      "outputs": [
        {
          "output_type": "stream",
          "name": "stdout",
          "text": [
            "32/32 [==============================] - 0s 1ms/step - loss: 0.4999 - accuracy: 0.3650\n"
          ]
        }
      ]
    },
    {
      "cell_type": "markdown",
      "source": [],
      "metadata": {
        "id": "6SQCxetJw3ZS"
      }
    },
    {
      "cell_type": "markdown",
      "source": [
        "##Optimal neural network\n"
      ],
      "metadata": {
        "id": "IciXhtOnw4FK"
      }
    },
    {
      "cell_type": "code",
      "source": [
        "x_train, y_train = x[:800], y[:800]\n",
        "x_test, y_test = x[800:], y[800:]\n",
        "x_train.shape, x_test.shape"
      ],
      "metadata": {
        "colab": {
          "base_uri": "https://localhost:8080/"
        },
        "id": "t49GTPhwxIsu",
        "outputId": "16591a34-211f-42ba-a4d1-dd7b993d03ce"
      },
      "execution_count": null,
      "outputs": [
        {
          "output_type": "execute_result",
          "data": {
            "text/plain": [
              "((800, 2), (200, 2))"
            ]
          },
          "metadata": {},
          "execution_count": 17
        }
      ]
    },
    {
      "cell_type": "code",
      "source": [
        "model_6 = tf.keras.Sequential([\n",
        "\n",
        "                               tf.keras.layers.Dense(4, activation = 'relu'),\n",
        "\n",
        "                               tf.keras.layers.Dense(4, activation = 'relu'),\n",
        "\n",
        "                               tf.keras.layers.Dense(1, activation = 'sigmoid')\n",
        "\n",
        "])\n",
        "\n",
        "model_6.compile( loss= tf.keras.losses.MeanAbsoluteError(),\n",
        "\n",
        "                optimizer = tf.keras.optimizers.Adam(learning_rate= 0.01),\n",
        "\n",
        "                metrics = ['accuracy'])\n",
        "\n",
        "model_6.fit(x_train, y_train, epochs = 25, verbose = 0)"
      ],
      "metadata": {
        "colab": {
          "base_uri": "https://localhost:8080/"
        },
        "id": "3CGbGOyEw4yE",
        "outputId": "2b927dc5-cc82-4c47-ca4a-b7e78f2a24d3"
      },
      "execution_count": null,
      "outputs": [
        {
          "output_type": "execute_result",
          "data": {
            "text/plain": [
              "<keras.callbacks.History at 0x7f7f44009750>"
            ]
          },
          "metadata": {},
          "execution_count": 18
        }
      ]
    },
    {
      "cell_type": "code",
      "source": [
        "results = model_6.evaluate(x, y)\n",
        "loss.append(results[0])\n",
        "accuracy.append(results[1])"
      ],
      "metadata": {
        "colab": {
          "base_uri": "https://localhost:8080/"
        },
        "id": "gczBrHgVxSBm",
        "outputId": "2cf2b482-4036-44d4-9f6c-6696a7200349"
      },
      "execution_count": null,
      "outputs": [
        {
          "output_type": "stream",
          "name": "stdout",
          "text": [
            "32/32 [==============================] - 0s 1ms/step - loss: 8.1766e-04 - accuracy: 1.0000\n"
          ]
        }
      ]
    },
    {
      "cell_type": "markdown",
      "source": [
        "##Loss and accuracy plot"
      ],
      "metadata": {
        "id": "TNybswBU63He"
      }
    },
    {
      "cell_type": "code",
      "source": [
        "plt.plot(['model1', 'model2', 'model3', 'model4', 'model5', 'model6'], loss)"
      ],
      "metadata": {
        "colab": {
          "base_uri": "https://localhost:8080/",
          "height": 282
        },
        "id": "Jfn3d-NC7Obz",
        "outputId": "6828439d-60a1-4e71-c4c6-884748115de6"
      },
      "execution_count": null,
      "outputs": [
        {
          "output_type": "execute_result",
          "data": {
            "text/plain": [
              "[<matplotlib.lines.Line2D at 0x7f7f43e2e450>]"
            ]
          },
          "metadata": {},
          "execution_count": 20
        },
        {
          "output_type": "display_data",
          "data": {
            "text/plain": [
              "<Figure size 432x288 with 1 Axes>"
            ],
            "image/png": "[encoded data removed]"
          },
          "metadata": {
            "needs_background": "light"
          }
        }
      ]
    },
    {
      "cell_type": "code",
      "source": [
        "plt.plot(['model1', 'model2', 'model3', 'model4', 'model5', 'model6'], accuracy)"
      ],
      "metadata": {
        "colab": {
          "base_uri": "https://localhost:8080/",
          "height": 282
        },
        "id": "70e2HwhV74Qp",
        "outputId": "65fa7b35-7daf-4919-8618-839edfd2d5a4"
      },
      "execution_count": null,
      "outputs": [
        {
          "output_type": "execute_result",
          "data": {
            "text/plain": [
              "[<matplotlib.lines.Line2D at 0x7f7f43e05290>]"
            ]
          },
          "metadata": {},
          "execution_count": 21
        },
        {
          "output_type": "display_data",
          "data": {
            "text/plain": [
              "<Figure size 432x288 with 1 Axes>"
            ],
            "image/png": "[encoded data removed]"
          },
          "metadata": {
            "needs_background": "light"
          }
        }
      ]
    },
    {
      "cell_type": "markdown",
      "source": [
        "#Part Two"
      ],
      "metadata": {
        "id": "stC8om5z8t4t"
      }
    },
    {
      "cell_type": "code",
      "source": [
        "from tensorflow.keras.datasets import fashion_mnist\n",
        "from tensorflow.keras.utils import to_categorical"
      ],
      "metadata": {
        "id": "F1Ni9DT18wp2"
      },
      "execution_count": null,
      "outputs": []
    },
    {
      "cell_type": "code",
      "source": [
        "(train_images, train_labels), (test_images, test_labels) = fashion_mnist.load_data()\n",
        "train_images, test_images = train_images / 255.0, test_images / 255.0"
      ],
      "metadata": {
        "colab": {
          "base_uri": "https://localhost:8080/"
        },
        "id": "cCOfr_eQ_lZl",
        "outputId": "f9249adf-399a-432c-cf12-4536797f1581"
      },
      "execution_count": null,
      "outputs": [
        {
          "output_type": "stream",
          "name": "stdout",
          "text": [
            "Downloading data from https://storage.googleapis.com/tensorflow/tf-keras-datasets/train-labels-idx1-ubyte.gz\n",
            "32768/29515 [=================================] - 0s 0us/step\n",
            "40960/29515 [=========================================] - 0s 0us/step\n",
            "Downloading data from https://storage.googleapis.com/tensorflow/tf-keras-datasets/train-images-idx3-ubyte.gz\n",
            "26427392/26421880 [==============================] - 0s 0us/step\n",
            "26435584/26421880 [==============================] - 0s 0us/step\n",
            "Downloading data from https://storage.googleapis.com/tensorflow/tf-keras-datasets/t10k-labels-idx1-ubyte.gz\n",
            "16384/5148 [===============================================================================================] - 0s 0us/step\n",
            "Downloading data from https://storage.googleapis.com/tensorflow/tf-keras-datasets/t10k-images-idx3-ubyte.gz\n",
            "4423680/4422102 [==============================] - 0s 0us/step\n",
            "4431872/4422102 [==============================] - 0s 0us/step\n"
          ]
        }
      ]
    },
    {
      "cell_type": "code",
      "source": [
        "train_images.shape"
      ],
      "metadata": {
        "colab": {
          "base_uri": "https://localhost:8080/"
        },
        "id": "kJLtFHN8BIX4",
        "outputId": "7d9bce45-b2e1-4669-e4be-cc9c9df4bd81"
      },
      "execution_count": null,
      "outputs": [
        {
          "output_type": "execute_result",
          "data": {
            "text/plain": [
              "(60000, 28, 28)"
            ]
          },
          "metadata": {},
          "execution_count": 24
        }
      ]
    },
    {
      "cell_type": "code",
      "source": [
        "model_f = tf.keras.Sequential([\n",
        "\n",
        "    tf.keras.layers.Conv2D(32, (3, 3), activation='relu', kernel_initializer='he_uniform', input_shape=(28, 28, 1)),\n",
        "\t  tf.keras.layers.MaxPooling2D((2, 2)),\n",
        "\t  tf.keras.layers.Flatten(),\n",
        "\t  tf.keras.layers.Dense(100, activation='relu', kernel_initializer='he_uniform'),\n",
        "\t  tf.keras.layers.Dense(10, activation='softmax')\n",
        "])\n",
        "\n",
        "model_f.compile( loss= tf.keras.losses.SparseCategoricalCrossentropy(),\n",
        "\n",
        "                optimizer = tf.keras.optimizers.Adam(learning_rate= 0.01),\n",
        "\n",
        "                metrics = ['accuracy'])\n",
        "\n",
        "model_f.fit(train_images, train_labels, epochs=10, batch_size=32, validation_data=(test_images, test_labels))"
      ],
      "metadata": {
        "id": "aeq_tsdc9PQu",
        "colab": {
          "base_uri": "https://localhost:8080/"
        },
        "outputId": "797998bd-d27a-4a52-d15a-240b693c1377"
      },
      "execution_count": null,
      "outputs": [
        {
          "output_type": "stream",
          "name": "stdout",
          "text": [
            "Epoch 1/10\n",
            "1875/1875 [==============================] - 39s 20ms/step - loss: 0.4527 - accuracy: 0.8537 - val_loss: 0.3572 - val_accuracy: 0.8709\n",
            "Epoch 2/10\n",
            "1875/1875 [==============================] - 39s 21ms/step - loss: 0.3016 - accuracy: 0.8891 - val_loss: 0.3853 - val_accuracy: 0.8725\n",
            "Epoch 3/10\n",
            "1875/1875 [==============================] - 38s 20ms/step - loss: 0.2759 - accuracy: 0.8981 - val_loss: 0.3320 - val_accuracy: 0.8760\n",
            "Epoch 4/10\n",
            "1875/1875 [==============================] - 38s 20ms/step - loss: 0.2520 - accuracy: 0.9074 - val_loss: 0.3569 - val_accuracy: 0.8827\n",
            "Epoch 5/10\n",
            "1875/1875 [==============================] - 38s 20ms/step - loss: 0.2394 - accuracy: 0.9110 - val_loss: 0.3796 - val_accuracy: 0.8752\n",
            "Epoch 6/10\n",
            "1875/1875 [==============================] - 37s 20ms/step - loss: 0.2235 - accuracy: 0.9180 - val_loss: 0.3957 - val_accuracy: 0.8768\n",
            "Epoch 7/10\n",
            "1875/1875 [==============================] - 38s 20ms/step - loss: 0.2129 - accuracy: 0.9212 - val_loss: 0.4331 - val_accuracy: 0.8809\n",
            "Epoch 8/10\n",
            "1875/1875 [==============================] - 38s 20ms/step - loss: 0.2045 - accuracy: 0.9266 - val_loss: 0.4428 - val_accuracy: 0.8824\n",
            "Epoch 9/10\n",
            "1875/1875 [==============================] - 38s 20ms/step - loss: 0.1897 - accuracy: 0.9305 - val_loss: 0.4541 - val_accuracy: 0.8894\n",
            "Epoch 10/10\n",
            "1875/1875 [==============================] - 37s 20ms/step - loss: 0.1874 - accuracy: 0.9313 - val_loss: 0.4602 - val_accuracy: 0.8866\n"
          ]
        },
        {
          "output_type": "execute_result",
          "data": {
            "text/plain": [
              "<keras.callbacks.History at 0x7f7f3b917e90>"
            ]
          },
          "metadata": {},
          "execution_count": 25
        }
      ]
    },
    {
      "cell_type": "code",
      "source": [],
      "metadata": {
        "id": "Gtd1Dmll4toM"
      },
      "execution_count": null,
      "outputs": []
    },
    {
      "cell_type": "code",
      "source": [
        "test_loss, test_accuracy = model_f.evaluate(test_images, test_labels)"
      ],
      "metadata": {
        "id": "1FvLcEaFAnfc",
        "colab": {
          "base_uri": "https://localhost:8080/"
        },
        "outputId": "3b95cb46-f9d4-4096-c9a3-f6e1fb34735c"
      },
      "execution_count": null,
      "outputs": [
        {
          "output_type": "stream",
          "name": "stdout",
          "text": [
            "313/313 [==============================] - 4s 13ms/step - loss: 0.4602 - accuracy: 0.8866\n"
          ]
        }
      ]
    },
    {
      "cell_type": "code",
      "source": [
        "y_test = test_labels / 255.0\n",
        "y_pred = model_f.predict(test_images)"
      ],
      "metadata": {
        "colab": {
          "base_uri": "https://localhost:8080/"
        },
        "id": "VxB2UIuB7rlx",
        "outputId": "2f0433db-760f-453b-c5d0-e92a21f64713"
      },
      "execution_count": null,
      "outputs": [
        {
          "output_type": "execute_result",
          "data": {
            "text/plain": [
              "array([[0.03529412],\n",
              "       [0.00784314],\n",
              "       [0.00392157],\n",
              "       ...,\n",
              "       [0.03137255],\n",
              "       [0.00392157],\n",
              "       [0.01960784]])"
            ]
          },
          "metadata": {},
          "execution_count": 43
        }
      ]
    },
    {
      "cell_type": "code",
      "source": [
        "from sklearn.metrics import confusion_matrix\n",
        "\n",
        "#Generate the confusion matrix\n",
        "cf_matrix = confusion_matrix(y_test, y_pred)\n",
        "\n",
        "print(cf_matrix)"
      ],
      "metadata": {
        "id": "Lcnz_cAp6IZN"
      },
      "execution_count": null,
      "outputs": []
    }
  ]
}